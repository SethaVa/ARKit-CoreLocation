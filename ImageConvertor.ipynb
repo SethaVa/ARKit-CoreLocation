{
  "nbformat": 4,
  "nbformat_minor": 0,
  "metadata": {
    "colab": {
      "provenance": [],
      "authorship_tag": "ABX9TyND84TnJmeeZT1IJmsTb1mM",
      "include_colab_link": true
    },
    "kernelspec": {
      "name": "python3",
      "display_name": "Python 3"
    },
    "language_info": {
      "name": "python"
    }
  },
  "cells": [
    {
      "cell_type": "markdown",
      "metadata": {
        "id": "view-in-github",
        "colab_type": "text"
      },
      "source": [
        "<a href=\"https://colab.research.google.com/github/SethaVa/ARKit-CoreLocation/blob/master/ImageConvertor.ipynb\" target=\"_parent\"><img src=\"https://colab.research.google.com/assets/colab-badge.svg\" alt=\"Open In Colab\"/></a>"
      ]
    },
    {
      "cell_type": "code",
      "execution_count": 5,
      "metadata": {
        "colab": {
          "base_uri": "https://localhost:8080/",
          "height": 448
        },
        "id": "QTndIMI61kCQ",
        "outputId": "86d9af1c-39dc-44c0-878b-a75a6e38f76b"
      },
      "outputs": [
        {
          "output_type": "execute_result",
          "data": {
            "text/plain": [
              "<matplotlib.image.AxesImage at 0x7f29da494c40>"
            ]
          },
          "metadata": {},
          "execution_count": 5
        },
        {
          "output_type": "display_data",
          "data": {
            "text/plain": [
              "<Figure size 640x480 with 1 Axes>"
            ],
            "image/png": "[encoded data removed]"
          },
          "metadata": {}
        }
      ],
      "source": [
        "from PIL import Image\n",
        "import matplotlib.pyplot as plt\n",
        "import numpy as np\n",
        "import urllib.request\n",
        "\n",
        "# Import image from url\n",
        "urllib.request.urlretrieve('https://i.stack.imgur.com/uEojM.png', 'eggs.png');\n",
        "\n",
        "# Show image\n",
        "img1 = Image.open('eggs.png')\n",
        "plt.imshow(img1)\n"
      ]
    },
    {
      "cell_type": "code",
      "source": [
        "# convert image to 8-bit grayscale\n",
        "img2 = Image.open('eggs.png').convert('L')\n",
        "plt.imshow(img2, cmap='gray');\n"
      ],
      "metadata": {
        "colab": {
          "base_uri": "https://localhost:8080/",
          "height": 430
        },
        "id": "sErvBalG2VMI",
        "outputId": "23bde3d8-426a-4603-c7cd-4c23c13ed81a"
      },
      "execution_count": 6,
      "outputs": [
        {
          "output_type": "display_data",
          "data": {
            "text/plain": [
              "<Figure size 640x480 with 1 Axes>"
            ],
            "image/png": "[encoded data removed]"
          },
          "metadata": {}
        }
      ]
    },
    {
      "cell_type": "code",
      "source": [
        "# Convert the image to grayscale\n",
        "threshold = 128\n",
        "binary_image = img2.point(lambda x: 0 if x < threshold else 255, '1')\n",
        "\n",
        "plt.imshow(binary_image)\n"
      ],
      "metadata": {
        "colab": {
          "base_uri": "https://localhost:8080/",
          "height": 448
        },
        "id": "UPZp9_oP2lNK",
        "outputId": "df8596c7-27e5-4456-de70-1e7dd54964f1"
      },
      "execution_count": 7,
      "outputs": [
        {
          "output_type": "execute_result",
          "data": {
            "text/plain": [
              "<matplotlib.image.AxesImage at 0x7f29d82c1d50>"
            ]
          },
          "metadata": {},
          "execution_count": 7
        },
        {
          "output_type": "display_data",
          "data": {
            "text/plain": [
              "<Figure size 640x480 with 1 Axes>"
            ],
            "image/png": "[encoded data removed]"
          },
          "metadata": {}
        }
      ]
    },
    {
      "cell_type": "code",
      "source": [
        "WIDTH, HEIGHT = img2.size\n",
        "# convert image data to a list of integers\n",
        "data = list(img2.getdata())\n",
        "\n",
        "# convert that to 2D list (list of lists of integers)\n",
        "data = [data[offset:offset+WIDTH] for offset in range(0, WIDTH*HEIGHT, WIDTH)]\n",
        "\n",
        "# At this point the image's pixels are all in memory and can be accessed\n",
        "# individually using data[row][col].\n",
        "\n",
        "# Show image pixel value\n",
        "for row in data:\n",
        "    print(' '.join('{:3}'.format(value) for value in row))\n"
      ],
      "metadata": {
        "colab": {
          "base_uri": "https://localhost:8080/"
        },
        "id": "k384xtP32zbm",
        "outputId": "9d69e49d-16aa-4cf6-fedf-1671666dc7ff"
      },
      "execution_count": 10,
      "outputs": [
        {
          "output_type": "stream",
          "name": "stdout",
          "text": [
            "  0   0  55 110  19   0   0   0  40 171 239 109   0   0   0   0   0   0   0   0   0   0   0   0\n",
            "  0  18 238 255 248 134  21  76 248 255 255 162   0   0   0   0   0   0   0   0   0   0   0   0\n",
            "  0  87 255 255 255 255 255 255 254 253 255  87   0   0   0   0   0   0   0   0   0   0   0   0\n",
            "  0  75 255 255 249 253 255 255 254 255 255 132  50  41   0   0   0   0  79 143  27   0   0   0\n",
            "  0  39 255 255 255 246 201 187 188 192 223 255 255 255  51   0  43 202 255 255  75   0   0   0\n",
            "  0  67 255 255 240 162 154 174 179 173 155 197 228 236 164 166 255 255 255 255  39   0   0   0\n",
            "  0 146 255 255 173 159 207 196 194 201 184 156 242 253 255 255 241 217 251 255  44   0   0   0\n",
            " 54 255 255 243 168 193 193 193 193 205 172 151 248 255 249 186 163 166 163 255 178   0   0   0\n",
            "167 255 250 255 189 157 196 207 199 167 141 186 219 248 185 156 196 205 171 165 255 207  92  33\n",
            "193 255 251 255 245 179 153 138 145 190 241 255 227 176 170 202 193 192 194 168 240 255 255 174\n",
            "154 255 247 207 215 233 198 190 236 255 255 255 220 161 178 197 193 197 178 169 252 255 236  30\n",
            " 54 255 225 207 245 255 255 254 210 181 178 232 221 146 191 198 196 200 146 203 255 255  73   0\n",
            "  0  66 215 255 252 255 246 166 155 188 179 157 230 155 126 193 185 152 192 254 255 235  12   0\n",
            "  0   0  82 255 255 253 179 169 205 193 205 157 198 253 174 160 164 221 254 253 255 255  75   0\n",
            "  0   0  39 255 255 225 162 198 193 193 205 154 192 255 255 214 197 255 251 250 254 255 193   0\n",
            "  0   0 104 255 255 206 160 203 192 197 190 152 235 255 240 195 241 255 251 255 255 251 118   0\n",
            "  0  74 255 255 255 227 142 189 202 186 146 206 255 255 206 222 255 251 255 190  36   0   0   0\n",
            " 95 255 255 249 251 255 201 154 167 171 216 255 252 255 183 234 255 255 170   0   0   0   0   0\n",
            "103 255 252 253 255 255 255 233 222 246 255 251 250 255 193 164 254 150   0   0   0   0   0   0\n",
            "  0 206 255 255 172 175 255 255 255 253 249 249 253 255 255  62   0   0   0   0   0   0   0   0\n",
            "  0  26 144  70   0   0 106 255 255 250 250 255 255 240 172  18   0   0   0   0   0   0   0   0\n",
            "  0   0   0   0   0   0   8 230 255 250 255 239  77   0   0   0   0   0   0   0   0   0   0   0\n",
            "  0   0   0   0   0   0   0 198 255 255 242  37   0   0   0   0   0   0   0   0   0   0   0   0\n",
            "  0   0   0   0   0   0   0  67 231 204  36   0   0   0   0   0   0   0   0   0   0   0   0   0\n"
          ]
        }
      ]
    },
    {
      "cell_type": "code",
      "source": [
        "# representate pixel value as desired.\n",
        "chars = '@%#*+=-:. '\n",
        "scale = (len(chars)-1)/255.\n",
        "print()\n",
        "for row in data:\n",
        "    print(' '.join(chars[int(value*scale)] for value in row))"
      ],
      "metadata": {
        "colab": {
          "base_uri": "https://localhost:8080/"
        },
        "id": "p_1A9PPz3sJo",
        "outputId": "ac56491a-0ba7-45ef-831b-a19415819d62"
      },
      "execution_count": 9,
      "outputs": [
        {
          "output_type": "stream",
          "name": "stdout",
          "text": [
            "\n",
            "@ @ % * @ @ @ @ % - . * @ @ @ @ @ @ @ @ @ @ @ @\n",
            "@ @ .   . + @ # .     = @ @ @ @ @ @ @ @ @ @ @ @\n",
            "@ *             . .   * @ @ @ @ @ @ @ @ @ @ @ @\n",
            "@ #     . .     .     + % % @ @ @ @ # = @ @ @ @\n",
            "@ %       . : - - - :       % @ % :     # @ @ @\n",
            "@ #     . = = - - - = - . . = =         % @ @ @\n",
            "@ =     - = : - - : - = . .     . : .   % @ @ @\n",
            "%     . = - - - - : - = .   . - = = =   - @ @ @\n",
            "=   .   - = - : : = + - : . - = - : - =   : * %\n",
            "-   .   . - = + = - .   . - - : - - - = .     -\n",
            "=   . : : . - - .       : = - - - - - = .   . %\n",
            "%   : : .     . : - - . : = - - - : = :     # @\n",
            "@ # :   .   . = = - - = . = + - - = - .   . @ @\n",
            "@ @ #     . - = : - : = - . - = = : . .     # @\n",
            "@ @ %     : = - - - : = -     : -   . . .   - @\n",
            "@ @ *     : = : - - - = .   . - .   .     . + @\n",
            "@ #       . = - : - = :     : :   .   - % @ @ @\n",
            "*     . .   : = = - :   .   - .     - @ @ @ @ @\n",
            "*   . .       . : .   . .   - = . = @ @ @ @ @ @\n",
            "@ :     - -       . . . .     # @ @ @ @ @ @ @ @\n",
            "@ @ = # @ @ *     . .     . - @ @ @ @ @ @ @ @ @\n",
            "@ @ @ @ @ @ @ .   .   . # @ @ @ @ @ @ @ @ @ @ @\n",
            "@ @ @ @ @ @ @ -     . % @ @ @ @ @ @ @ @ @ @ @ @\n",
            "@ @ @ @ @ @ @ # . : % @ @ @ @ @ @ @ @ @ @ @ @ @\n"
          ]
        }
      ]
    }
  ]
}